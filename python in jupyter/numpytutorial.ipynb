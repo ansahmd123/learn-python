{
 "cells": [
  {
   "cell_type": "code",
   "execution_count": 1,
   "id": "439ccc3a",
   "metadata": {},
   "outputs": [],
   "source": [
    "# import numpy as np"
   ]
  },
  {
   "cell_type": "code",
   "execution_count": 2,
   "id": "d58a85ec",
   "metadata": {},
   "outputs": [],
   "source": [
    "# array1=np.array([[3,2,4],[4,5,8]])"
   ]
  },
  {
   "cell_type": "code",
   "execution_count": 3,
   "id": "38894705",
   "metadata": {},
   "outputs": [],
   "source": [
    "# print(array1)"
   ]
  },
  {
   "cell_type": "code",
   "execution_count": 4,
   "id": "85d97bae",
   "metadata": {},
   "outputs": [],
   "source": [
    "# array1.shape"
   ]
  },
  {
   "cell_type": "code",
   "execution_count": 5,
   "id": "a43c5628",
   "metadata": {},
   "outputs": [],
   "source": [
    "# array1.dtype"
   ]
  },
  {
   "cell_type": "code",
   "execution_count": 6,
   "id": "511fc5a2",
   "metadata": {},
   "outputs": [],
   "source": [
    "# np.zeros((4,6))"
   ]
  },
  {
   "cell_type": "code",
   "execution_count": 7,
   "id": "fcfc4c42",
   "metadata": {},
   "outputs": [],
   "source": [
    "# np.ones(6)"
   ]
  },
  {
   "cell_type": "code",
   "execution_count": 8,
   "id": "d769d199",
   "metadata": {},
   "outputs": [],
   "source": [
    "# np.empty((4,6))"
   ]
  },
  {
   "cell_type": "code",
   "execution_count": 9,
   "id": "9fe6b03f",
   "metadata": {},
   "outputs": [],
   "source": [
    "# array1"
   ]
  },
  {
   "cell_type": "code",
   "execution_count": 10,
   "id": "8708da82",
   "metadata": {},
   "outputs": [],
   "source": [
    "# array1**array1"
   ]
  },
  {
   "cell_type": "code",
   "execution_count": 11,
   "id": "5159269b",
   "metadata": {},
   "outputs": [],
   "source": [
    "# 1/array1"
   ]
  },
  {
   "cell_type": "markdown",
   "id": "cab4c928",
   "metadata": {},
   "source": [
    "## Slicing"
   ]
  },
  {
   "cell_type": "code",
   "execution_count": 12,
   "id": "060867b7",
   "metadata": {},
   "outputs": [],
   "source": [
    "# array2=np.array([5,4,3,45,64,34])"
   ]
  },
  {
   "cell_type": "code",
   "execution_count": 13,
   "id": "b99a0a7f",
   "metadata": {},
   "outputs": [],
   "source": [
    "# arr=array2[4:6].copy()"
   ]
  },
  {
   "cell_type": "code",
   "execution_count": 14,
   "id": "516f54dc",
   "metadata": {},
   "outputs": [],
   "source": [
    "# arr"
   ]
  },
  {
   "cell_type": "code",
   "execution_count": 15,
   "id": "44124011",
   "metadata": {},
   "outputs": [],
   "source": [
    "# arr[0]=9"
   ]
  },
  {
   "cell_type": "code",
   "execution_count": 16,
   "id": "7b99eeef",
   "metadata": {},
   "outputs": [],
   "source": [
    "# arr"
   ]
  },
  {
   "cell_type": "code",
   "execution_count": 17,
   "id": "ef760430",
   "metadata": {},
   "outputs": [],
   "source": [
    "# array2"
   ]
  },
  {
   "cell_type": "code",
   "execution_count": 18,
   "id": "1a002416",
   "metadata": {},
   "outputs": [],
   "source": [
    "# array1"
   ]
  },
  {
   "cell_type": "code",
   "execution_count": 19,
   "id": "e7651c08",
   "metadata": {},
   "outputs": [],
   "source": [
    "# array1[0,2]"
   ]
  },
  {
   "cell_type": "markdown",
   "id": "4be4aee6",
   "metadata": {},
   "source": [
    "## More on numpy"
   ]
  },
  {
   "cell_type": "code",
   "execution_count": 20,
   "id": "c4f11c04",
   "metadata": {},
   "outputs": [],
   "source": [
    "# import numpy as np"
   ]
  },
  {
   "cell_type": "code",
   "execution_count": 21,
   "id": "d1ac0509",
   "metadata": {},
   "outputs": [],
   "source": [
    "# a=np.array([[1,2,3],\n",
    "#              [4,5,6]])"
   ]
  },
  {
   "cell_type": "code",
   "execution_count": 22,
   "id": "94332f78",
   "metadata": {},
   "outputs": [],
   "source": [
    "# ar1.sum(axis=0)"
   ]
  },
  {
   "cell_type": "code",
   "execution_count": 23,
   "id": "007e431e",
   "metadata": {},
   "outputs": [],
   "source": [
    "# b=np.array([[7,8,9],\n",
    "#             [2,8,0]])"
   ]
  },
  {
   "cell_type": "code",
   "execution_count": 24,
   "id": "0c617844",
   "metadata": {},
   "outputs": [],
   "source": [
    "# np.dot(a,b.transpose())"
   ]
  },
  {
   "cell_type": "code",
   "execution_count": 25,
   "id": "df9fd3b8",
   "metadata": {},
   "outputs": [],
   "source": [
    "# np.cross(a,b)"
   ]
  },
  {
   "cell_type": "markdown",
   "id": "4f6e8f3a",
   "metadata": {},
   "source": [
    "## sorting"
   ]
  },
  {
   "cell_type": "code",
   "execution_count": 26,
   "id": "6af67608",
   "metadata": {},
   "outputs": [],
   "source": [
    "# a=np.array([[4,3,2],\n",
    "#              [5,4,6]])"
   ]
  },
  {
   "cell_type": "code",
   "execution_count": 27,
   "id": "71c69b09",
   "metadata": {},
   "outputs": [],
   "source": [
    "# np.sort(a,axis=0,kind='mergesort')    #sort using mergesort algo"
   ]
  },
  {
   "cell_type": "markdown",
   "id": "7be6ade9",
   "metadata": {},
   "source": [
    "## More numpy functions"
   ]
  },
  {
   "cell_type": "code",
   "execution_count": 28,
   "id": "787580e8",
   "metadata": {},
   "outputs": [],
   "source": [
    "import numpy as np"
   ]
  },
  {
   "cell_type": "code",
   "execution_count": 29,
   "id": "7e0b2832",
   "metadata": {},
   "outputs": [],
   "source": [
    "a=np.arange(6)"
   ]
  },
  {
   "cell_type": "code",
   "execution_count": 30,
   "id": "8cbfb729",
   "metadata": {},
   "outputs": [
    {
     "data": {
      "text/plain": [
       "array([0, 1, 2, 3, 4, 5])"
      ]
     },
     "execution_count": 30,
     "metadata": {},
     "output_type": "execute_result"
    }
   ],
   "source": [
    "a"
   ]
  },
  {
   "cell_type": "code",
   "execution_count": 31,
   "id": "7f16e2a7",
   "metadata": {},
   "outputs": [],
   "source": [
    "b=np.array([5,4,5,6,4,0,4,3,5,6,33,8])\n",
    "b=b.reshape(4,3)"
   ]
  },
  {
   "cell_type": "code",
   "execution_count": 32,
   "id": "7a751eb5",
   "metadata": {},
   "outputs": [
    {
     "data": {
      "text/plain": [
       "array([[ 5,  4,  5],\n",
       "       [ 6,  4,  0],\n",
       "       [ 4,  3,  5],\n",
       "       [ 6, 33,  8]])"
      ]
     },
     "execution_count": 32,
     "metadata": {},
     "output_type": "execute_result"
    }
   ],
   "source": [
    "b"
   ]
  },
  {
   "cell_type": "code",
   "execution_count": 33,
   "id": "33b95670",
   "metadata": {},
   "outputs": [
    {
     "data": {
      "text/plain": [
       "array([[2, 2, 1],\n",
       "       [0, 0, 0],\n",
       "       [1, 1, 2],\n",
       "       [3, 3, 3]], dtype=int64)"
      ]
     },
     "execution_count": 33,
     "metadata": {},
     "output_type": "execute_result"
    }
   ],
   "source": [
    "np.argsort(b,axis=0)     #shows the position of elements to sort"
   ]
  },
  {
   "cell_type": "code",
   "execution_count": 37,
   "id": "0039ab93",
   "metadata": {},
   "outputs": [
    {
     "data": {
      "text/plain": [
       "5"
      ]
     },
     "execution_count": 37,
     "metadata": {},
     "output_type": "execute_result"
    }
   ],
   "source": [
    "np.argmin(b)"
   ]
  },
  {
   "cell_type": "code",
   "execution_count": 35,
   "id": "eae31e83",
   "metadata": {},
   "outputs": [
    {
     "data": {
      "text/plain": [
       "10"
      ]
     },
     "execution_count": 35,
     "metadata": {},
     "output_type": "execute_result"
    }
   ],
   "source": [
    "np.argmax(b)"
   ]
  },
  {
   "cell_type": "code",
   "execution_count": null,
   "id": "7f616945",
   "metadata": {},
   "outputs": [],
   "source": []
  },
  {
   "cell_type": "code",
   "execution_count": null,
   "id": "9754f178",
   "metadata": {},
   "outputs": [],
   "source": []
  }
 ],
 "metadata": {
  "kernelspec": {
   "display_name": "Python 3",
   "language": "python",
   "name": "python3"
  },
  "language_info": {
   "codemirror_mode": {
    "name": "ipython",
    "version": 3
   },
   "file_extension": ".py",
   "mimetype": "text/x-python",
   "name": "python",
   "nbconvert_exporter": "python",
   "pygments_lexer": "ipython3",
   "version": "3.9.4"
  }
 },
 "nbformat": 4,
 "nbformat_minor": 5
}
