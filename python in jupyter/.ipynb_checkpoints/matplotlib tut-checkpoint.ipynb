{
 "cells": [
  {
   "cell_type": "code",
   "execution_count": 1,
   "id": "329a1cd2",
   "metadata": {},
   "outputs": [],
   "source": [
    "import matplotlib.pyplot as plt"
   ]
  },
  {
   "cell_type": "code",
   "execution_count": 2,
   "id": "8329a01a",
   "metadata": {},
   "outputs": [],
   "source": [
    "players=[\"ronaldo\",\"messi\",\"neymar\",\"salah\"]"
   ]
  },
  {
   "cell_type": "code",
   "execution_count": 3,
   "id": "1f056bf7",
   "metadata": {},
   "outputs": [],
   "source": [
    "scores=[71,53,26,85]"
   ]
  },
  {
   "cell_type": "code",
   "execution_count": 4,
   "id": "1793198a",
   "metadata": {},
   "outputs": [
    {
     "data": {
      "text/plain": [
       "Text(0, 0.5, 'Scores')"
      ]
     },
     "execution_count": 4,
     "metadata": {},
     "output_type": "execute_result"
    },
    {
     "data": {
      "image/png": "[encoded data removed]",
      "text/plain": [
       "<Figure size 432x288 with 1 Axes>"
      ]
     },
     "metadata": {
      "needs_background": "light"
     },
     "output_type": "display_data"
    }
   ],
   "source": [
    "plt.bar(players,scores,width=0.4)\n",
    "plt.title(\"Golden Boot Race\")\n",
    "plt.xlabel('Players')\n",
    "plt.ylabel('Scores')"
   ]
  }
 ],
 "metadata": {
  "kernelspec": {
   "display_name": "Python 3 (ipykernel)",
   "language": "python",
   "name": "python3"
  },
  "language_info": {
   "codemirror_mode": {
    "name": "ipython",
    "version": 3
   },
   "file_extension": ".py",
   "mimetype": "text/x-python",
   "name": "python",
   "nbconvert_exporter": "python",
   "pygments_lexer": "ipython3",
   "version": "3.9.12"
  }
 },
 "nbformat": 4,
 "nbformat_minor": 5
}
