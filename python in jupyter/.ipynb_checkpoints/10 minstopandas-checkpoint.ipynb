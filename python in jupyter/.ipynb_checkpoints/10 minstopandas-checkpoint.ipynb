{
 "cells": [
  {
   "cell_type": "code",
   "execution_count": 1,
   "id": "021f54e9",
   "metadata": {},
   "outputs": [],
   "source": [
    "import numpy as np\n",
    "import pandas as pd"
   ]
  },
  {
   "cell_type": "code",
   "execution_count": 2,
   "id": "e1751ea8",
   "metadata": {},
   "outputs": [],
   "source": [
    "s=pd.Series([1,3,5,np.nan,8,6])"
   ]
  },
  {
   "cell_type": "code",
   "execution_count": 3,
   "id": "8fde92cd",
   "metadata": {},
   "outputs": [
    {
     "data": {
      "text/plain": [
       "0    1.0\n",
       "1    3.0\n",
       "2    5.0\n",
       "3    NaN\n",
       "4    8.0\n",
       "5    6.0\n",
       "dtype: float64"
      ]
     },
     "execution_count": 3,
     "metadata": {},
     "output_type": "execute_result"
    }
   ],
   "source": [
    "s"
   ]
  },
  {
   "cell_type": "code",
   "execution_count": 4,
   "id": "a2ee3040",
   "metadata": {},
   "outputs": [],
   "source": [
    "dates=pd.date_range(\"20130101\",periods=8)"
   ]
  },
  {
   "cell_type": "code",
   "execution_count": 5,
   "id": "4e496b49",
   "metadata": {},
   "outputs": [
    {
     "data": {
      "text/plain": [
       "DatetimeIndex(['2013-01-01', '2013-01-02', '2013-01-03', '2013-01-04',\n",
       "               '2013-01-05', '2013-01-06', '2013-01-07', '2013-01-08'],\n",
       "              dtype='datetime64[ns]', freq='D')"
      ]
     },
     "execution_count": 5,
     "metadata": {},
     "output_type": "execute_result"
    }
   ],
   "source": [
    "dates"
   ]
  },
  {
   "cell_type": "code",
   "execution_count": 6,
   "id": "a0d10319",
   "metadata": {},
   "outputs": [],
   "source": [
    "df=pd.DataFrame(np.random.randn(8,4),index=dates,columns=list('ABCD'))"
   ]
  },
  {
   "cell_type": "code",
   "execution_count": 7,
   "id": "4a1402ca",
   "metadata": {},
   "outputs": [
    {
     "data": {
      "text/html": [
       "<div>\n",
       "<style scoped>\n",
       "    .dataframe tbody tr th:only-of-type {\n",
       "        vertical-align: middle;\n",
       "    }\n",
       "\n",
       "    .dataframe tbody tr th {\n",
       "        vertical-align: top;\n",
       "    }\n",
       "\n",
       "    .dataframe thead th {\n",
       "        text-align: right;\n",
       "    }\n",
       "</style>\n",
       "<table border=\"1\" class=\"dataframe\">\n",
       "  <thead>\n",
       "    <tr style=\"text-align: right;\">\n",
       "      <th></th>\n",
       "      <th>A</th>\n",
       "      <th>B</th>\n",
       "      <th>C</th>\n",
       "      <th>D</th>\n",
       "    </tr>\n",
       "  </thead>\n",
       "  <tbody>\n",
       "    <tr>\n",
       "      <th>2013-01-01</th>\n",
       "      <td>-0.588072</td>\n",
       "      <td>-1.012973</td>\n",
       "      <td>0.984102</td>\n",
       "      <td>0.512248</td>\n",
       "    </tr>\n",
       "    <tr>\n",
       "      <th>2013-01-02</th>\n",
       "      <td>0.172907</td>\n",
       "      <td>0.332348</td>\n",
       "      <td>0.193680</td>\n",
       "      <td>0.049164</td>\n",
       "    </tr>\n",
       "    <tr>\n",
       "      <th>2013-01-03</th>\n",
       "      <td>-1.737992</td>\n",
       "      <td>1.507265</td>\n",
       "      <td>0.037792</td>\n",
       "      <td>-0.429306</td>\n",
       "    </tr>\n",
       "    <tr>\n",
       "      <th>2013-01-04</th>\n",
       "      <td>0.572943</td>\n",
       "      <td>0.704393</td>\n",
       "      <td>-0.028451</td>\n",
       "      <td>0.408363</td>\n",
       "    </tr>\n",
       "    <tr>\n",
       "      <th>2013-01-05</th>\n",
       "      <td>-0.653701</td>\n",
       "      <td>0.413298</td>\n",
       "      <td>0.958180</td>\n",
       "      <td>1.163793</td>\n",
       "    </tr>\n",
       "    <tr>\n",
       "      <th>2013-01-06</th>\n",
       "      <td>0.312688</td>\n",
       "      <td>0.072765</td>\n",
       "      <td>0.918173</td>\n",
       "      <td>0.860850</td>\n",
       "    </tr>\n",
       "    <tr>\n",
       "      <th>2013-01-07</th>\n",
       "      <td>-0.861207</td>\n",
       "      <td>-0.813468</td>\n",
       "      <td>-0.961191</td>\n",
       "      <td>-0.158179</td>\n",
       "    </tr>\n",
       "    <tr>\n",
       "      <th>2013-01-08</th>\n",
       "      <td>-2.673736</td>\n",
       "      <td>-0.778030</td>\n",
       "      <td>-0.756092</td>\n",
       "      <td>0.050116</td>\n",
       "    </tr>\n",
       "  </tbody>\n",
       "</table>\n",
       "</div>"
      ],
      "text/plain": [
       "                   A         B         C         D\n",
       "2013-01-01 -0.588072 -1.012973  0.984102  0.512248\n",
       "2013-01-02  0.172907  0.332348  0.193680  0.049164\n",
       "2013-01-03 -1.737992  1.507265  0.037792 -0.429306\n",
       "2013-01-04  0.572943  0.704393 -0.028451  0.408363\n",
       "2013-01-05 -0.653701  0.413298  0.958180  1.163793\n",
       "2013-01-06  0.312688  0.072765  0.918173  0.860850\n",
       "2013-01-07 -0.861207 -0.813468 -0.961191 -0.158179\n",
       "2013-01-08 -2.673736 -0.778030 -0.756092  0.050116"
      ]
     },
     "execution_count": 7,
     "metadata": {},
     "output_type": "execute_result"
    }
   ],
   "source": [
    "df"
   ]
  },
  {
   "cell_type": "code",
   "execution_count": 8,
   "id": "502b1665",
   "metadata": {},
   "outputs": [
    {
     "data": {
      "text/html": [
       "<div>\n",
       "<style scoped>\n",
       "    .dataframe tbody tr th:only-of-type {\n",
       "        vertical-align: middle;\n",
       "    }\n",
       "\n",
       "    .dataframe tbody tr th {\n",
       "        vertical-align: top;\n",
       "    }\n",
       "\n",
       "    .dataframe thead th {\n",
       "        text-align: right;\n",
       "    }\n",
       "</style>\n",
       "<table border=\"1\" class=\"dataframe\">\n",
       "  <thead>\n",
       "    <tr style=\"text-align: right;\">\n",
       "      <th></th>\n",
       "      <th>A</th>\n",
       "      <th>B</th>\n",
       "      <th>C</th>\n",
       "      <th>D</th>\n",
       "    </tr>\n",
       "  </thead>\n",
       "  <tbody>\n",
       "    <tr>\n",
       "      <th>2013-01-01</th>\n",
       "      <td>-0.588072</td>\n",
       "      <td>-1.012973</td>\n",
       "      <td>0.984102</td>\n",
       "      <td>0.512248</td>\n",
       "    </tr>\n",
       "    <tr>\n",
       "      <th>2013-01-02</th>\n",
       "      <td>0.172907</td>\n",
       "      <td>0.332348</td>\n",
       "      <td>0.193680</td>\n",
       "      <td>0.049164</td>\n",
       "    </tr>\n",
       "    <tr>\n",
       "      <th>2013-01-03</th>\n",
       "      <td>-1.737992</td>\n",
       "      <td>1.507265</td>\n",
       "      <td>0.037792</td>\n",
       "      <td>-0.429306</td>\n",
       "    </tr>\n",
       "  </tbody>\n",
       "</table>\n",
       "</div>"
      ],
      "text/plain": [
       "                   A         B         C         D\n",
       "2013-01-01 -0.588072 -1.012973  0.984102  0.512248\n",
       "2013-01-02  0.172907  0.332348  0.193680  0.049164\n",
       "2013-01-03 -1.737992  1.507265  0.037792 -0.429306"
      ]
     },
     "execution_count": 8,
     "metadata": {},
     "output_type": "execute_result"
    }
   ],
   "source": [
    "df.head(3)"
   ]
  },
  {
   "cell_type": "code",
   "execution_count": 9,
   "id": "9a30b080",
   "metadata": {},
   "outputs": [
    {
     "data": {
      "text/html": [
       "<div>\n",
       "<style scoped>\n",
       "    .dataframe tbody tr th:only-of-type {\n",
       "        vertical-align: middle;\n",
       "    }\n",
       "\n",
       "    .dataframe tbody tr th {\n",
       "        vertical-align: top;\n",
       "    }\n",
       "\n",
       "    .dataframe thead th {\n",
       "        text-align: right;\n",
       "    }\n",
       "</style>\n",
       "<table border=\"1\" class=\"dataframe\">\n",
       "  <thead>\n",
       "    <tr style=\"text-align: right;\">\n",
       "      <th></th>\n",
       "      <th>A</th>\n",
       "      <th>B</th>\n",
       "      <th>C</th>\n",
       "      <th>D</th>\n",
       "    </tr>\n",
       "  </thead>\n",
       "  <tbody>\n",
       "    <tr>\n",
       "      <th>2013-01-06</th>\n",
       "      <td>0.312688</td>\n",
       "      <td>0.072765</td>\n",
       "      <td>0.918173</td>\n",
       "      <td>0.860850</td>\n",
       "    </tr>\n",
       "    <tr>\n",
       "      <th>2013-01-07</th>\n",
       "      <td>-0.861207</td>\n",
       "      <td>-0.813468</td>\n",
       "      <td>-0.961191</td>\n",
       "      <td>-0.158179</td>\n",
       "    </tr>\n",
       "    <tr>\n",
       "      <th>2013-01-08</th>\n",
       "      <td>-2.673736</td>\n",
       "      <td>-0.778030</td>\n",
       "      <td>-0.756092</td>\n",
       "      <td>0.050116</td>\n",
       "    </tr>\n",
       "  </tbody>\n",
       "</table>\n",
       "</div>"
      ],
      "text/plain": [
       "                   A         B         C         D\n",
       "2013-01-06  0.312688  0.072765  0.918173  0.860850\n",
       "2013-01-07 -0.861207 -0.813468 -0.961191 -0.158179\n",
       "2013-01-08 -2.673736 -0.778030 -0.756092  0.050116"
      ]
     },
     "execution_count": 9,
     "metadata": {},
     "output_type": "execute_result"
    }
   ],
   "source": [
    "df.tail(3)"
   ]
  },
  {
   "cell_type": "code",
   "execution_count": 10,
   "id": "fc8e5898",
   "metadata": {},
   "outputs": [],
   "source": [
    "df1=pd.DataFrame({\n",
    "    \"A\":1.0,\n",
    "    \"B\":pd.Timestamp(\"20130201\"),\n",
    "    \"C\":pd.Series(1,index=list(range(4)),dtype='float32'),\n",
    "    \"D\":np.array([3]*4),\n",
    "    \"E\":pd.Categorical(['test','train','test','train']),\n",
    "    \"F\":'foo'\n",
    "})"
   ]
  },
  {
   "cell_type": "code",
   "execution_count": 11,
   "id": "4b195da4",
   "metadata": {},
   "outputs": [
    {
     "data": {
      "text/html": [
       "<div>\n",
       "<style scoped>\n",
       "    .dataframe tbody tr th:only-of-type {\n",
       "        vertical-align: middle;\n",
       "    }\n",
       "\n",
       "    .dataframe tbody tr th {\n",
       "        vertical-align: top;\n",
       "    }\n",
       "\n",
       "    .dataframe thead th {\n",
       "        text-align: right;\n",
       "    }\n",
       "</style>\n",
       "<table border=\"1\" class=\"dataframe\">\n",
       "  <thead>\n",
       "    <tr style=\"text-align: right;\">\n",
       "      <th></th>\n",
       "      <th>A</th>\n",
       "      <th>B</th>\n",
       "      <th>C</th>\n",
       "      <th>D</th>\n",
       "      <th>E</th>\n",
       "      <th>F</th>\n",
       "    </tr>\n",
       "  </thead>\n",
       "  <tbody>\n",
       "    <tr>\n",
       "      <th>0</th>\n",
       "      <td>1.0</td>\n",
       "      <td>2013-02-01</td>\n",
       "      <td>1.0</td>\n",
       "      <td>3</td>\n",
       "      <td>test</td>\n",
       "      <td>foo</td>\n",
       "    </tr>\n",
       "    <tr>\n",
       "      <th>1</th>\n",
       "      <td>1.0</td>\n",
       "      <td>2013-02-01</td>\n",
       "      <td>1.0</td>\n",
       "      <td>3</td>\n",
       "      <td>train</td>\n",
       "      <td>foo</td>\n",
       "    </tr>\n",
       "    <tr>\n",
       "      <th>2</th>\n",
       "      <td>1.0</td>\n",
       "      <td>2013-02-01</td>\n",
       "      <td>1.0</td>\n",
       "      <td>3</td>\n",
       "      <td>test</td>\n",
       "      <td>foo</td>\n",
       "    </tr>\n",
       "    <tr>\n",
       "      <th>3</th>\n",
       "      <td>1.0</td>\n",
       "      <td>2013-02-01</td>\n",
       "      <td>1.0</td>\n",
       "      <td>3</td>\n",
       "      <td>train</td>\n",
       "      <td>foo</td>\n",
       "    </tr>\n",
       "  </tbody>\n",
       "</table>\n",
       "</div>"
      ],
      "text/plain": [
       "     A          B    C  D      E    F\n",
       "0  1.0 2013-02-01  1.0  3   test  foo\n",
       "1  1.0 2013-02-01  1.0  3  train  foo\n",
       "2  1.0 2013-02-01  1.0  3   test  foo\n",
       "3  1.0 2013-02-01  1.0  3  train  foo"
      ]
     },
     "execution_count": 11,
     "metadata": {},
     "output_type": "execute_result"
    }
   ],
   "source": [
    "df1"
   ]
  },
  {
   "cell_type": "code",
   "execution_count": 12,
   "id": "d3a01bd8",
   "metadata": {},
   "outputs": [
    {
     "data": {
      "text/plain": [
       "A           float64\n",
       "B    datetime64[ns]\n",
       "C           float32\n",
       "D             int32\n",
       "E          category\n",
       "F            object\n",
       "dtype: object"
      ]
     },
     "execution_count": 12,
     "metadata": {},
     "output_type": "execute_result"
    }
   ],
   "source": [
    "df1.dtypes"
   ]
  },
  {
   "cell_type": "code",
   "execution_count": 13,
   "id": "0b9d3c4f",
   "metadata": {},
   "outputs": [
    {
     "data": {
      "text/plain": [
       "DatetimeIndex(['2013-01-01', '2013-01-02', '2013-01-03', '2013-01-04',\n",
       "               '2013-01-05', '2013-01-06', '2013-01-07', '2013-01-08'],\n",
       "              dtype='datetime64[ns]', freq='D')"
      ]
     },
     "execution_count": 13,
     "metadata": {},
     "output_type": "execute_result"
    }
   ],
   "source": [
    "df.index"
   ]
  },
  {
   "cell_type": "code",
   "execution_count": 14,
   "id": "6566dd69",
   "metadata": {},
   "outputs": [
    {
     "data": {
      "text/plain": [
       "Index(['A', 'B', 'C', 'D'], dtype='object')"
      ]
     },
     "execution_count": 14,
     "metadata": {},
     "output_type": "execute_result"
    }
   ],
   "source": [
    "df.columns"
   ]
  },
  {
   "cell_type": "code",
   "execution_count": 15,
   "id": "4065418c",
   "metadata": {},
   "outputs": [
    {
     "data": {
      "text/html": [
       "<div>\n",
       "<style scoped>\n",
       "    .dataframe tbody tr th:only-of-type {\n",
       "        vertical-align: middle;\n",
       "    }\n",
       "\n",
       "    .dataframe tbody tr th {\n",
       "        vertical-align: top;\n",
       "    }\n",
       "\n",
       "    .dataframe thead th {\n",
       "        text-align: right;\n",
       "    }\n",
       "</style>\n",
       "<table border=\"1\" class=\"dataframe\">\n",
       "  <thead>\n",
       "    <tr style=\"text-align: right;\">\n",
       "      <th></th>\n",
       "      <th>A</th>\n",
       "      <th>B</th>\n",
       "      <th>C</th>\n",
       "      <th>D</th>\n",
       "    </tr>\n",
       "  </thead>\n",
       "  <tbody>\n",
       "    <tr>\n",
       "      <th>2013-01-01</th>\n",
       "      <td>-0.588072</td>\n",
       "      <td>-1.012973</td>\n",
       "      <td>0.984102</td>\n",
       "      <td>0.512248</td>\n",
       "    </tr>\n",
       "    <tr>\n",
       "      <th>2013-01-02</th>\n",
       "      <td>0.172907</td>\n",
       "      <td>0.332348</td>\n",
       "      <td>0.193680</td>\n",
       "      <td>0.049164</td>\n",
       "    </tr>\n",
       "    <tr>\n",
       "      <th>2013-01-03</th>\n",
       "      <td>-1.737992</td>\n",
       "      <td>1.507265</td>\n",
       "      <td>0.037792</td>\n",
       "      <td>-0.429306</td>\n",
       "    </tr>\n",
       "    <tr>\n",
       "      <th>2013-01-04</th>\n",
       "      <td>0.572943</td>\n",
       "      <td>0.704393</td>\n",
       "      <td>-0.028451</td>\n",
       "      <td>0.408363</td>\n",
       "    </tr>\n",
       "    <tr>\n",
       "      <th>2013-01-05</th>\n",
       "      <td>-0.653701</td>\n",
       "      <td>0.413298</td>\n",
       "      <td>0.958180</td>\n",
       "      <td>1.163793</td>\n",
       "    </tr>\n",
       "    <tr>\n",
       "      <th>2013-01-06</th>\n",
       "      <td>0.312688</td>\n",
       "      <td>0.072765</td>\n",
       "      <td>0.918173</td>\n",
       "      <td>0.860850</td>\n",
       "    </tr>\n",
       "    <tr>\n",
       "      <th>2013-01-07</th>\n",
       "      <td>-0.861207</td>\n",
       "      <td>-0.813468</td>\n",
       "      <td>-0.961191</td>\n",
       "      <td>-0.158179</td>\n",
       "    </tr>\n",
       "    <tr>\n",
       "      <th>2013-01-08</th>\n",
       "      <td>-2.673736</td>\n",
       "      <td>-0.778030</td>\n",
       "      <td>-0.756092</td>\n",
       "      <td>0.050116</td>\n",
       "    </tr>\n",
       "  </tbody>\n",
       "</table>\n",
       "</div>"
      ],
      "text/plain": [
       "                   A         B         C         D\n",
       "2013-01-01 -0.588072 -1.012973  0.984102  0.512248\n",
       "2013-01-02  0.172907  0.332348  0.193680  0.049164\n",
       "2013-01-03 -1.737992  1.507265  0.037792 -0.429306\n",
       "2013-01-04  0.572943  0.704393 -0.028451  0.408363\n",
       "2013-01-05 -0.653701  0.413298  0.958180  1.163793\n",
       "2013-01-06  0.312688  0.072765  0.918173  0.860850\n",
       "2013-01-07 -0.861207 -0.813468 -0.961191 -0.158179\n",
       "2013-01-08 -2.673736 -0.778030 -0.756092  0.050116"
      ]
     },
     "execution_count": 15,
     "metadata": {},
     "output_type": "execute_result"
    }
   ],
   "source": [
    "df"
   ]
  },
  {
   "cell_type": "code",
   "execution_count": 16,
   "id": "2473057e",
   "metadata": {},
   "outputs": [
    {
     "data": {
      "text/html": [
       "<div>\n",
       "<style scoped>\n",
       "    .dataframe tbody tr th:only-of-type {\n",
       "        vertical-align: middle;\n",
       "    }\n",
       "\n",
       "    .dataframe tbody tr th {\n",
       "        vertical-align: top;\n",
       "    }\n",
       "\n",
       "    .dataframe thead th {\n",
       "        text-align: right;\n",
       "    }\n",
       "</style>\n",
       "<table border=\"1\" class=\"dataframe\">\n",
       "  <thead>\n",
       "    <tr style=\"text-align: right;\">\n",
       "      <th></th>\n",
       "      <th>A</th>\n",
       "      <th>B</th>\n",
       "      <th>C</th>\n",
       "      <th>D</th>\n",
       "    </tr>\n",
       "  </thead>\n",
       "  <tbody>\n",
       "    <tr>\n",
       "      <th>2013-01-01</th>\n",
       "      <td>-0.588072</td>\n",
       "      <td>-1.012973</td>\n",
       "      <td>0.984102</td>\n",
       "      <td>0.512248</td>\n",
       "    </tr>\n",
       "    <tr>\n",
       "      <th>2013-01-02</th>\n",
       "      <td>0.172907</td>\n",
       "      <td>0.332348</td>\n",
       "      <td>0.193680</td>\n",
       "      <td>0.049164</td>\n",
       "    </tr>\n",
       "    <tr>\n",
       "      <th>2013-01-03</th>\n",
       "      <td>-1.737992</td>\n",
       "      <td>1.507265</td>\n",
       "      <td>0.037792</td>\n",
       "      <td>-0.429306</td>\n",
       "    </tr>\n",
       "    <tr>\n",
       "      <th>2013-01-04</th>\n",
       "      <td>0.572943</td>\n",
       "      <td>0.704393</td>\n",
       "      <td>-0.028451</td>\n",
       "      <td>0.408363</td>\n",
       "    </tr>\n",
       "    <tr>\n",
       "      <th>2013-01-05</th>\n",
       "      <td>-0.653701</td>\n",
       "      <td>0.413298</td>\n",
       "      <td>0.958180</td>\n",
       "      <td>1.163793</td>\n",
       "    </tr>\n",
       "    <tr>\n",
       "      <th>2013-01-06</th>\n",
       "      <td>0.312688</td>\n",
       "      <td>0.072765</td>\n",
       "      <td>0.918173</td>\n",
       "      <td>0.860850</td>\n",
       "    </tr>\n",
       "    <tr>\n",
       "      <th>2013-01-07</th>\n",
       "      <td>-0.861207</td>\n",
       "      <td>-0.813468</td>\n",
       "      <td>-0.961191</td>\n",
       "      <td>-0.158179</td>\n",
       "    </tr>\n",
       "    <tr>\n",
       "      <th>2013-01-08</th>\n",
       "      <td>-2.673736</td>\n",
       "      <td>-0.778030</td>\n",
       "      <td>-0.756092</td>\n",
       "      <td>0.050116</td>\n",
       "    </tr>\n",
       "  </tbody>\n",
       "</table>\n",
       "</div>"
      ],
      "text/plain": [
       "                   A         B         C         D\n",
       "2013-01-01 -0.588072 -1.012973  0.984102  0.512248\n",
       "2013-01-02  0.172907  0.332348  0.193680  0.049164\n",
       "2013-01-03 -1.737992  1.507265  0.037792 -0.429306\n",
       "2013-01-04  0.572943  0.704393 -0.028451  0.408363\n",
       "2013-01-05 -0.653701  0.413298  0.958180  1.163793\n",
       "2013-01-06  0.312688  0.072765  0.918173  0.860850\n",
       "2013-01-07 -0.861207 -0.813468 -0.961191 -0.158179\n",
       "2013-01-08 -2.673736 -0.778030 -0.756092  0.050116"
      ]
     },
     "execution_count": 16,
     "metadata": {},
     "output_type": "execute_result"
    }
   ],
   "source": [
    "df.sort_index(axis=1,ascending=True)"
   ]
  },
  {
   "cell_type": "code",
   "execution_count": 17,
   "id": "3f9b027d",
   "metadata": {},
   "outputs": [
    {
     "data": {
      "text/html": [
       "<div>\n",
       "<style scoped>\n",
       "    .dataframe tbody tr th:only-of-type {\n",
       "        vertical-align: middle;\n",
       "    }\n",
       "\n",
       "    .dataframe tbody tr th {\n",
       "        vertical-align: top;\n",
       "    }\n",
       "\n",
       "    .dataframe thead th {\n",
       "        text-align: right;\n",
       "    }\n",
       "</style>\n",
       "<table border=\"1\" class=\"dataframe\">\n",
       "  <thead>\n",
       "    <tr style=\"text-align: right;\">\n",
       "      <th></th>\n",
       "      <th>2013-01-01</th>\n",
       "      <th>2013-01-02</th>\n",
       "      <th>2013-01-03</th>\n",
       "      <th>2013-01-04</th>\n",
       "      <th>2013-01-05</th>\n",
       "      <th>2013-01-06</th>\n",
       "      <th>2013-01-07</th>\n",
       "      <th>2013-01-08</th>\n",
       "    </tr>\n",
       "  </thead>\n",
       "  <tbody>\n",
       "    <tr>\n",
       "      <th>A</th>\n",
       "      <td>-0.588072</td>\n",
       "      <td>0.172907</td>\n",
       "      <td>-1.737992</td>\n",
       "      <td>0.572943</td>\n",
       "      <td>-0.653701</td>\n",
       "      <td>0.312688</td>\n",
       "      <td>-0.861207</td>\n",
       "      <td>-2.673736</td>\n",
       "    </tr>\n",
       "    <tr>\n",
       "      <th>B</th>\n",
       "      <td>-1.012973</td>\n",
       "      <td>0.332348</td>\n",
       "      <td>1.507265</td>\n",
       "      <td>0.704393</td>\n",
       "      <td>0.413298</td>\n",
       "      <td>0.072765</td>\n",
       "      <td>-0.813468</td>\n",
       "      <td>-0.778030</td>\n",
       "    </tr>\n",
       "    <tr>\n",
       "      <th>C</th>\n",
       "      <td>0.984102</td>\n",
       "      <td>0.193680</td>\n",
       "      <td>0.037792</td>\n",
       "      <td>-0.028451</td>\n",
       "      <td>0.958180</td>\n",
       "      <td>0.918173</td>\n",
       "      <td>-0.961191</td>\n",
       "      <td>-0.756092</td>\n",
       "    </tr>\n",
       "    <tr>\n",
       "      <th>D</th>\n",
       "      <td>0.512248</td>\n",
       "      <td>0.049164</td>\n",
       "      <td>-0.429306</td>\n",
       "      <td>0.408363</td>\n",
       "      <td>1.163793</td>\n",
       "      <td>0.860850</td>\n",
       "      <td>-0.158179</td>\n",
       "      <td>0.050116</td>\n",
       "    </tr>\n",
       "  </tbody>\n",
       "</table>\n",
       "</div>"
      ],
      "text/plain": [
       "   2013-01-01  2013-01-02  2013-01-03  2013-01-04  2013-01-05  2013-01-06  \\\n",
       "A   -0.588072    0.172907   -1.737992    0.572943   -0.653701    0.312688   \n",
       "B   -1.012973    0.332348    1.507265    0.704393    0.413298    0.072765   \n",
       "C    0.984102    0.193680    0.037792   -0.028451    0.958180    0.918173   \n",
       "D    0.512248    0.049164   -0.429306    0.408363    1.163793    0.860850   \n",
       "\n",
       "   2013-01-07  2013-01-08  \n",
       "A   -0.861207   -2.673736  \n",
       "B   -0.813468   -0.778030  \n",
       "C   -0.961191   -0.756092  \n",
       "D   -0.158179    0.050116  "
      ]
     },
     "execution_count": 17,
     "metadata": {},
     "output_type": "execute_result"
    }
   ],
   "source": [
    "df.T"
   ]
  },
  {
   "cell_type": "code",
   "execution_count": 19,
   "id": "272e0cb9",
   "metadata": {},
   "outputs": [],
   "source": [
    "df.rename(columns={})"
   ]
  },
  {
   "cell_type": "code",
   "execution_count": null,
   "id": "522f33e7",
   "metadata": {},
   "outputs": [],
   "source": []
  }
 ],
 "metadata": {
  "kernelspec": {
   "display_name": "Python 3 (ipykernel)",
   "language": "python",
   "name": "python3"
  },
  "language_info": {
   "codemirror_mode": {
    "name": "ipython",
    "version": 3
   },
   "file_extension": ".py",
   "mimetype": "text/x-python",
   "name": "python",
   "nbconvert_exporter": "python",
   "pygments_lexer": "ipython3",
   "version": "3.9.12"
  }
 },
 "nbformat": 4,
 "nbformat_minor": 5
}
