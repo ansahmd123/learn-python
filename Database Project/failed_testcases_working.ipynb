{
 "cells": [
  {
   "cell_type": "code",
   "execution_count": 1,
   "id": "b33dd1a5-f09b-4f3d-8ee8-564b5e22af86",
   "metadata": {},
   "outputs": [],
   "source": [
    "import pandas as pd"
   ]
  },
  {
   "cell_type": "code",
   "execution_count": 56,
   "id": "a9a520a8-f1e7-484b-bd38-dfcfdfdfdf54",
   "metadata": {},
   "outputs": [],
   "source": [
    "df = pd.read_excel('tests-analysis-report.xlsx',sheet_name=2)"
   ]
  },
  {
   "cell_type": "code",
   "execution_count": 65,
   "id": "b856172e-94d3-4194-acb1-900bd0941e53",
   "metadata": {},
   "outputs": [],
   "source": [
    "target_week = 12"
   ]
  },
  {
   "cell_type": "code",
   "execution_count": 66,
   "id": "c0a351e5-129d-465d-b42f-241feca7684a",
   "metadata": {},
   "outputs": [],
   "source": [
    "df_week = df[df['week'] == target_week]"
   ]
  },
  {
   "cell_type": "code",
   "execution_count": 67,
   "id": "eb31f97b-77d2-4f05-a7ce-3cac28d7b535",
   "metadata": {},
   "outputs": [],
   "source": [
    "test_failures_per_branch = df_week.groupby(['Branch', 'FailedTests']).size()"
   ]
  },
  {
   "cell_type": "code",
   "execution_count": 68,
   "id": "c766154a-08db-4c9b-95d5-8531a1341c5a",
   "metadata": {},
   "outputs": [],
   "source": [
    "test_failures_per_branch = test_failures_per_branch.reset_index(name='Failures')"
   ]
  },
  {
   "cell_type": "code",
   "execution_count": 69,
   "id": "e73fbcdb-a1fd-4ca4-8fc3-44f390786608",
   "metadata": {},
   "outputs": [],
   "source": [
    "test_failures_per_branch = test_failures_per_branch.sort_values(by=['Branch', 'Failures'], ascending=[True, False])"
   ]
  },
  {
   "cell_type": "code",
   "execution_count": 70,
   "id": "57028712-f53a-4d99-aee1-3b05e6ec11f3",
   "metadata": {},
   "outputs": [],
   "source": [
    "target_branch = 'FEATURE-HSQLDB-UPGRADE'"
   ]
  },
  {
   "cell_type": "code",
   "execution_count": 71,
   "id": "40c0a6a5-14c0-4180-8727-ca63cbce7b3a",
   "metadata": {},
   "outputs": [],
   "source": [
    "top_failed_tests_for_branch = test_failures_per_branch[test_failures_per_branch['Branch'] == target_branch].head(10)"
   ]
  },
  {
   "cell_type": "code",
   "execution_count": 72,
   "id": "12775167-df1a-4105-93c3-014ea1a7c472",
   "metadata": {},
   "outputs": [
    {
     "data": {
      "text/html": [
       "<div>\n",
       "<style scoped>\n",
       "    .dataframe tbody tr th:only-of-type {\n",
       "        vertical-align: middle;\n",
       "    }\n",
       "\n",
       "    .dataframe tbody tr th {\n",
       "        vertical-align: top;\n",
       "    }\n",
       "\n",
       "    .dataframe thead th {\n",
       "        text-align: right;\n",
       "    }\n",
       "</style>\n",
       "<table border=\"1\" class=\"dataframe\">\n",
       "  <thead>\n",
       "    <tr style=\"text-align: right;\">\n",
       "      <th></th>\n",
       "      <th>Branch</th>\n",
       "      <th>FailedTests</th>\n",
       "      <th>Failures</th>\n",
       "    </tr>\n",
       "  </thead>\n",
       "  <tbody>\n",
       "    <tr>\n",
       "      <th>268</th>\n",
       "      <td>FEATURE-HSQLDB-UPGRADE</td>\n",
       "      <td>__FundA___20____8000000____5700000__.And_I_set...</td>\n",
       "      <td>5</td>\n",
       "    </tr>\n",
       "    <tr>\n",
       "      <th>269</th>\n",
       "      <td>FEATURE-HSQLDB-UPGRADE</td>\n",
       "      <td>__FundA___20____8000000____5700000__.classMethod</td>\n",
       "      <td>5</td>\n",
       "    </tr>\n",
       "    <tr>\n",
       "      <th>270</th>\n",
       "      <td>FEATURE-HSQLDB-UPGRADE</td>\n",
       "      <td>__FundA___6___0___0__.And_I_setup_the_fund_FundA</td>\n",
       "      <td>5</td>\n",
       "    </tr>\n",
       "    <tr>\n",
       "      <th>271</th>\n",
       "      <td>FEATURE-HSQLDB-UPGRADE</td>\n",
       "      <td>__FundA___6___0___0__.classMethod</td>\n",
       "      <td>5</td>\n",
       "    </tr>\n",
       "    <tr>\n",
       "      <th>272</th>\n",
       "      <td>FEATURE-HSQLDB-UPGRADE</td>\n",
       "      <td>__FundA___BenchA___6___6___10____10172330_1246...</td>\n",
       "      <td>5</td>\n",
       "    </tr>\n",
       "    <tr>\n",
       "      <th>273</th>\n",
       "      <td>FEATURE-HSQLDB-UPGRADE</td>\n",
       "      <td>__FundA___BenchA___6___6___10____10172330_1246...</td>\n",
       "      <td>5</td>\n",
       "    </tr>\n",
       "    <tr>\n",
       "      <th>274</th>\n",
       "      <td>FEATURE-HSQLDB-UPGRADE</td>\n",
       "      <td>__FundA___BenchA___Portfolio__.And_I_setup_the...</td>\n",
       "      <td>5</td>\n",
       "    </tr>\n",
       "    <tr>\n",
       "      <th>275</th>\n",
       "      <td>FEATURE-HSQLDB-UPGRADE</td>\n",
       "      <td>__FundA___BenchA___Portfolio__.classMethod</td>\n",
       "      <td>5</td>\n",
       "    </tr>\n",
       "    <tr>\n",
       "      <th>276</th>\n",
       "      <td>FEATURE-HSQLDB-UPGRADE</td>\n",
       "      <td>__FundA___BenchD___20___18___37___Weight__.And...</td>\n",
       "      <td>5</td>\n",
       "    </tr>\n",
       "    <tr>\n",
       "      <th>277</th>\n",
       "      <td>FEATURE-HSQLDB-UPGRADE</td>\n",
       "      <td>__FundA___BenchD___20___18___37___Weight__.cla...</td>\n",
       "      <td>5</td>\n",
       "    </tr>\n",
       "  </tbody>\n",
       "</table>\n",
       "</div>"
      ],
      "text/plain": [
       "                     Branch  \\\n",
       "268  FEATURE-HSQLDB-UPGRADE   \n",
       "269  FEATURE-HSQLDB-UPGRADE   \n",
       "270  FEATURE-HSQLDB-UPGRADE   \n",
       "271  FEATURE-HSQLDB-UPGRADE   \n",
       "272  FEATURE-HSQLDB-UPGRADE   \n",
       "273  FEATURE-HSQLDB-UPGRADE   \n",
       "274  FEATURE-HSQLDB-UPGRADE   \n",
       "275  FEATURE-HSQLDB-UPGRADE   \n",
       "276  FEATURE-HSQLDB-UPGRADE   \n",
       "277  FEATURE-HSQLDB-UPGRADE   \n",
       "\n",
       "                                           FailedTests  Failures  \n",
       "268  __FundA___20____8000000____5700000__.And_I_set...         5  \n",
       "269   __FundA___20____8000000____5700000__.classMethod         5  \n",
       "270   __FundA___6___0___0__.And_I_setup_the_fund_FundA         5  \n",
       "271                  __FundA___6___0___0__.classMethod         5  \n",
       "272  __FundA___BenchA___6___6___10____10172330_1246...         5  \n",
       "273  __FundA___BenchA___6___6___10____10172330_1246...         5  \n",
       "274  __FundA___BenchA___Portfolio__.And_I_setup_the...         5  \n",
       "275         __FundA___BenchA___Portfolio__.classMethod         5  \n",
       "276  __FundA___BenchD___20___18___37___Weight__.And...         5  \n",
       "277  __FundA___BenchD___20___18___37___Weight__.cla...         5  "
      ]
     },
     "execution_count": 72,
     "metadata": {},
     "output_type": "execute_result"
    }
   ],
   "source": [
    "top_failed_tests_for_branch"
   ]
  },
  {
   "cell_type": "code",
   "execution_count": 73,
   "id": "00cf9ab3-62dc-485a-b47a-5c2c6d8bd390",
   "metadata": {},
   "outputs": [],
   "source": [
    "# below code working fine and generating data in other sheets\n",
    "df = pd.read_excel('tests-analysis-report.xlsx',sheet_name=2)"
   ]
  },
  {
   "cell_type": "code",
   "execution_count": 74,
   "id": "4d451512-921e-49cc-81e5-3e98158d9ce9",
   "metadata": {},
   "outputs": [],
   "source": [
    "target_week = 12"
   ]
  },
  {
   "cell_type": "code",
   "execution_count": 75,
   "id": "f2ebbd58-c2a7-42ba-be09-28d6099df414",
   "metadata": {},
   "outputs": [],
   "source": [
    "df_week = df[df['week'] == target_week]"
   ]
  },
  {
   "cell_type": "code",
   "execution_count": 76,
   "id": "d7738e62-d88a-4d69-8972-c70cb44d891a",
   "metadata": {},
   "outputs": [],
   "source": [
    "test_failures_per_branch = df_week.groupby(['Branch', 'FailedTests']).size()"
   ]
  },
  {
   "cell_type": "code",
   "execution_count": 77,
   "id": "133a6001-2f70-4fc8-b3d2-cbf6d2fe34b5",
   "metadata": {},
   "outputs": [],
   "source": [
    "test_failures_per_branch = test_failures_per_branch.reset_index(name='Failures')"
   ]
  },
  {
   "cell_type": "code",
   "execution_count": 78,
   "id": "3af43c53-e14f-4362-9387-7ddfb0960547",
   "metadata": {},
   "outputs": [],
   "source": [
    "test_failures_per_branch = test_failures_per_branch.sort_values(by=['Branch', 'Failures'], ascending=[True, False])\n"
   ]
  },
  {
   "cell_type": "code",
   "execution_count": 79,
   "id": "04bf1ff8-78c1-4442-bb15-fd72ca461a38",
   "metadata": {},
   "outputs": [],
   "source": [
    "branches = ['FEATURE-HSQLDB-UPGRADE', 'mr17-bugs', 'CORE-FRONTOFFICE_18', 'FEATURE-V17-RUNTIME-JAVA17', 'CORE-BACKOFFICE_18']\n",
    "for branch in branches:\n",
    "    top_failed_tests_for_branch = test_failures_per_branch[test_failures_per_branch['Branch'] == branch].head(10)\n",
    "    with pd.ExcelWriter(\"top failed tests.xlsx\", mode=\"a\", engine=\"openpyxl\") as writer:\n",
    "        top_failed_tests_for_branch.to_excel(writer, sheet_name=branch)"
   ]
  },
  {
   "cell_type": "code",
   "execution_count": null,
   "id": "7e525fd0-2550-4416-83e5-9bce5676de01",
   "metadata": {},
   "outputs": [],
   "source": []
  }
 ],
 "metadata": {
  "kernelspec": {
   "display_name": "Python 3 (ipykernel)",
   "language": "python",
   "name": "python3"
  },
  "language_info": {
   "codemirror_mode": {
    "name": "ipython",
    "version": 3
   },
   "file_extension": ".py",
   "mimetype": "text/x-python",
   "name": "python",
   "nbconvert_exporter": "python",
   "pygments_lexer": "ipython3",
   "version": "3.11.5"
  }
 },
 "nbformat": 4,
 "nbformat_minor": 5
}
