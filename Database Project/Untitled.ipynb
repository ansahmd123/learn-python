{
 "cells": [
  {
   "cell_type": "code",
   "execution_count": 2,
   "id": "1050b1b5-adbb-47ff-955a-af1b3016045e",
   "metadata": {},
   "outputs": [],
   "source": [
    "import pandas as pd"
   ]
  },
  {
   "cell_type": "code",
   "execution_count": 6,
   "id": "c9d4aefd-222a-4571-a747-878213d507ea",
   "metadata": {},
   "outputs": [],
   "source": [
    "df = pd.read_excel('tests-analysis-report.xlsx',sheet_name=2)"
   ]
  },
  {
   "cell_type": "code",
   "execution_count": 8,
   "id": "1dce1e5e-20fb-41ff-8091-a2e88ddb1861",
   "metadata": {},
   "outputs": [
    {
     "data": {
      "text/plain": [
       "Index(['Date', 'Respository', 'Branch', 'Module', 'Result', 'Failure Reason',\n",
       "       'JobUrl', 'Day', 'FailedTests', 'StackTrace', 'BuildOrder',\n",
       "       'ShortStack', 'Priority', 'E2e', 'week', 'revision', 'commiters',\n",
       "       'Pattern', 'Error', 'Domain', 'Object'],\n",
       "      dtype='object')"
      ]
     },
     "execution_count": 8,
     "metadata": {},
     "output_type": "execute_result"
    }
   ],
   "source": [
    "df.columns"
   ]
  },
  {
   "cell_type": "code",
   "execution_count": 9,
   "id": "8a66ce9d-b7a5-4002-92bc-b54ad803f6ce",
   "metadata": {},
   "outputs": [
    {
     "data": {
      "text/plain": [
       "0        FEATURE-HSQLDB-UPGRADE\n",
       "1        FEATURE-HSQLDB-UPGRADE\n",
       "2        FEATURE-HSQLDB-UPGRADE\n",
       "3        FEATURE-HSQLDB-UPGRADE\n",
       "4        FEATURE-HSQLDB-UPGRADE\n",
       "                  ...          \n",
       "28930    FEATURE-HSQLDB-UPGRADE\n",
       "28931    FEATURE-HSQLDB-UPGRADE\n",
       "28932    FEATURE-HSQLDB-UPGRADE\n",
       "28933    FEATURE-HSQLDB-UPGRADE\n",
       "28934       CORE-FRONTOFFICE_18\n",
       "Name: Branch, Length: 28935, dtype: object"
      ]
     },
     "execution_count": 9,
     "metadata": {},
     "output_type": "execute_result"
    }
   ],
   "source": [
    "df['Branch']"
   ]
  },
  {
   "cell_type": "code",
   "execution_count": 10,
   "id": "a6cc0690-4c78-4150-82d7-9beeb71197a5",
   "metadata": {},
   "outputs": [],
   "source": [
    "test_failures_per_branch = df.groupby(['Branch', 'FailedTests']).size()"
   ]
  },
  {
   "cell_type": "code",
   "execution_count": 11,
   "id": "34be8cf0-a716-465d-902c-f08cf95bf8cd",
   "metadata": {},
   "outputs": [
    {
     "data": {
      "text/plain": [
       "Branch              FailedTests                                                                                                                               \n",
       "CORE-BACKOFFICE_18  Batch MCC scheduled task.Scheduled task BATCH MCC with trade date grouping strategy                                                           2\n",
       "                    Compliance warnings.Invalid rule with analysis that does not have the recommended market data refresh frequency                               1\n",
       "                    Limited Rule Results.Check number of results have not been limited                                                                            2\n",
       "                    Manipulate Rules With Temporary Adjustments.Export rule with temporary adjustments                                                            1\n",
       "                    Pre Trade Orders Violation.Test check on order and notification email                                                                         1\n",
       "                                                                                                                                                                 ..\n",
       "mr17-bugs           test.com.calypso.tk.util.TestBOInterestUtil.testNoIBExistingMissingPropertyNull_NoRetroActivityEXCLUDE_ZERO_TRADE                             4\n",
       "                    test.com.calypso.tk.util.TestBOInterestUtil.testNoIBExistingNoMissingProperty                                                                 4\n",
       "                    test.com.calypso.tk.util.TestScheduledTaskEOD_PORTFOLIO_SWAP_FirstAccrual.testFirstAccrual                                                    3\n",
       "                    test.com.calypso.tk.util.TestScheduledTaskEOD_PORTFOLIO_SWAP_MarginCallMeasuresFor2PayTradesCompo.testMarginCallMeasuresFor2PayTradesCompo    3\n",
       "                    test.com.calypso.tk.util.TestScheduledTaskRECON_INVPOSITIONS_MARGINCALL.testScheduledTaskRECON_INVPOSITIONS_rebuildFromScratch                1\n",
       "Length: 20665, dtype: int64"
      ]
     },
     "execution_count": 11,
     "metadata": {},
     "output_type": "execute_result"
    }
   ],
   "source": [
    "test_failures_per_branch"
   ]
  },
  {
   "cell_type": "code",
   "execution_count": 12,
   "id": "53ba8695-f835-4745-b34e-e4df7d91e68b",
   "metadata": {},
   "outputs": [],
   "source": [
    "test_failures_per_branch = test_failures_per_branch.reset_index(name='Failures')"
   ]
  },
  {
   "cell_type": "code",
   "execution_count": 13,
   "id": "b4b5360f-7e4a-4071-916f-f8af790d4665",
   "metadata": {},
   "outputs": [
    {
     "data": {
      "text/html": [
       "<div>\n",
       "<style scoped>\n",
       "    .dataframe tbody tr th:only-of-type {\n",
       "        vertical-align: middle;\n",
       "    }\n",
       "\n",
       "    .dataframe tbody tr th {\n",
       "        vertical-align: top;\n",
       "    }\n",
       "\n",
       "    .dataframe thead th {\n",
       "        text-align: right;\n",
       "    }\n",
       "</style>\n",
       "<table border=\"1\" class=\"dataframe\">\n",
       "  <thead>\n",
       "    <tr style=\"text-align: right;\">\n",
       "      <th></th>\n",
       "      <th>Branch</th>\n",
       "      <th>FailedTests</th>\n",
       "      <th>Failures</th>\n",
       "    </tr>\n",
       "  </thead>\n",
       "  <tbody>\n",
       "    <tr>\n",
       "      <th>0</th>\n",
       "      <td>CORE-BACKOFFICE_18</td>\n",
       "      <td>Batch MCC scheduled task.Scheduled task BATCH ...</td>\n",
       "      <td>2</td>\n",
       "    </tr>\n",
       "    <tr>\n",
       "      <th>1</th>\n",
       "      <td>CORE-BACKOFFICE_18</td>\n",
       "      <td>Compliance warnings.Invalid rule with analysis...</td>\n",
       "      <td>1</td>\n",
       "    </tr>\n",
       "    <tr>\n",
       "      <th>2</th>\n",
       "      <td>CORE-BACKOFFICE_18</td>\n",
       "      <td>Limited Rule Results.Check number of results h...</td>\n",
       "      <td>2</td>\n",
       "    </tr>\n",
       "    <tr>\n",
       "      <th>3</th>\n",
       "      <td>CORE-BACKOFFICE_18</td>\n",
       "      <td>Manipulate Rules With Temporary Adjustments.Ex...</td>\n",
       "      <td>1</td>\n",
       "    </tr>\n",
       "    <tr>\n",
       "      <th>4</th>\n",
       "      <td>CORE-BACKOFFICE_18</td>\n",
       "      <td>Pre Trade Orders Violation.Test check on order...</td>\n",
       "      <td>1</td>\n",
       "    </tr>\n",
       "    <tr>\n",
       "      <th>...</th>\n",
       "      <td>...</td>\n",
       "      <td>...</td>\n",
       "      <td>...</td>\n",
       "    </tr>\n",
       "    <tr>\n",
       "      <th>20660</th>\n",
       "      <td>mr17-bugs</td>\n",
       "      <td>test.com.calypso.tk.util.TestBOInterestUtil.te...</td>\n",
       "      <td>4</td>\n",
       "    </tr>\n",
       "    <tr>\n",
       "      <th>20661</th>\n",
       "      <td>mr17-bugs</td>\n",
       "      <td>test.com.calypso.tk.util.TestBOInterestUtil.te...</td>\n",
       "      <td>4</td>\n",
       "    </tr>\n",
       "    <tr>\n",
       "      <th>20662</th>\n",
       "      <td>mr17-bugs</td>\n",
       "      <td>test.com.calypso.tk.util.TestScheduledTaskEOD_...</td>\n",
       "      <td>3</td>\n",
       "    </tr>\n",
       "    <tr>\n",
       "      <th>20663</th>\n",
       "      <td>mr17-bugs</td>\n",
       "      <td>test.com.calypso.tk.util.TestScheduledTaskEOD_...</td>\n",
       "      <td>3</td>\n",
       "    </tr>\n",
       "    <tr>\n",
       "      <th>20664</th>\n",
       "      <td>mr17-bugs</td>\n",
       "      <td>test.com.calypso.tk.util.TestScheduledTaskRECO...</td>\n",
       "      <td>1</td>\n",
       "    </tr>\n",
       "  </tbody>\n",
       "</table>\n",
       "<p>20665 rows × 3 columns</p>\n",
       "</div>"
      ],
      "text/plain": [
       "                   Branch                                        FailedTests  \\\n",
       "0      CORE-BACKOFFICE_18  Batch MCC scheduled task.Scheduled task BATCH ...   \n",
       "1      CORE-BACKOFFICE_18  Compliance warnings.Invalid rule with analysis...   \n",
       "2      CORE-BACKOFFICE_18  Limited Rule Results.Check number of results h...   \n",
       "3      CORE-BACKOFFICE_18  Manipulate Rules With Temporary Adjustments.Ex...   \n",
       "4      CORE-BACKOFFICE_18  Pre Trade Orders Violation.Test check on order...   \n",
       "...                   ...                                                ...   \n",
       "20660           mr17-bugs  test.com.calypso.tk.util.TestBOInterestUtil.te...   \n",
       "20661           mr17-bugs  test.com.calypso.tk.util.TestBOInterestUtil.te...   \n",
       "20662           mr17-bugs  test.com.calypso.tk.util.TestScheduledTaskEOD_...   \n",
       "20663           mr17-bugs  test.com.calypso.tk.util.TestScheduledTaskEOD_...   \n",
       "20664           mr17-bugs  test.com.calypso.tk.util.TestScheduledTaskRECO...   \n",
       "\n",
       "       Failures  \n",
       "0             2  \n",
       "1             1  \n",
       "2             2  \n",
       "3             1  \n",
       "4             1  \n",
       "...         ...  \n",
       "20660         4  \n",
       "20661         4  \n",
       "20662         3  \n",
       "20663         3  \n",
       "20664         1  \n",
       "\n",
       "[20665 rows x 3 columns]"
      ]
     },
     "execution_count": 13,
     "metadata": {},
     "output_type": "execute_result"
    }
   ],
   "source": [
    "test_failures_per_branch"
   ]
  },
  {
   "cell_type": "code",
   "execution_count": 14,
   "id": "da826fe4-3615-41fb-8a30-991eafbf68dc",
   "metadata": {},
   "outputs": [],
   "source": [
    "test_failures_per_branch = test_failures_per_branch.sort_values(by=['Branch', 'Failures'], ascending=[True, True])"
   ]
  },
  {
   "cell_type": "code",
   "execution_count": 15,
   "id": "a3b4c541-1ab6-4a30-996e-b08b38269179",
   "metadata": {},
   "outputs": [
    {
     "data": {
      "text/html": [
       "<div>\n",
       "<style scoped>\n",
       "    .dataframe tbody tr th:only-of-type {\n",
       "        vertical-align: middle;\n",
       "    }\n",
       "\n",
       "    .dataframe tbody tr th {\n",
       "        vertical-align: top;\n",
       "    }\n",
       "\n",
       "    .dataframe thead th {\n",
       "        text-align: right;\n",
       "    }\n",
       "</style>\n",
       "<table border=\"1\" class=\"dataframe\">\n",
       "  <thead>\n",
       "    <tr style=\"text-align: right;\">\n",
       "      <th></th>\n",
       "      <th>Branch</th>\n",
       "      <th>FailedTests</th>\n",
       "      <th>Failures</th>\n",
       "    </tr>\n",
       "  </thead>\n",
       "  <tbody>\n",
       "    <tr>\n",
       "      <th>1</th>\n",
       "      <td>CORE-BACKOFFICE_18</td>\n",
       "      <td>Compliance warnings.Invalid rule with analysis...</td>\n",
       "      <td>1</td>\n",
       "    </tr>\n",
       "    <tr>\n",
       "      <th>3</th>\n",
       "      <td>CORE-BACKOFFICE_18</td>\n",
       "      <td>Manipulate Rules With Temporary Adjustments.Ex...</td>\n",
       "      <td>1</td>\n",
       "    </tr>\n",
       "    <tr>\n",
       "      <th>4</th>\n",
       "      <td>CORE-BACKOFFICE_18</td>\n",
       "      <td>Pre Trade Orders Violation.Test check on order...</td>\n",
       "      <td>1</td>\n",
       "    </tr>\n",
       "    <tr>\n",
       "      <th>5</th>\n",
       "      <td>CORE-BACKOFFICE_18</td>\n",
       "      <td>Pre Trade Orders Violation.Test postdeal check...</td>\n",
       "      <td>1</td>\n",
       "    </tr>\n",
       "    <tr>\n",
       "      <th>6</th>\n",
       "      <td>CORE-BACKOFFICE_18</td>\n",
       "      <td>Pre Trade Trend Violation Status for Max Rules...</td>\n",
       "      <td>1</td>\n",
       "    </tr>\n",
       "    <tr>\n",
       "      <th>...</th>\n",
       "      <td>...</td>\n",
       "      <td>...</td>\n",
       "      <td>...</td>\n",
       "    </tr>\n",
       "    <tr>\n",
       "      <th>20146</th>\n",
       "      <td>mr17-bugs</td>\n",
       "      <td>com.calypso.tk.decisionsupport.TestRoutedOrder...</td>\n",
       "      <td>17</td>\n",
       "    </tr>\n",
       "    <tr>\n",
       "      <th>20147</th>\n",
       "      <td>mr17-bugs</td>\n",
       "      <td>com.calypso.tk.decisionsupport.TestRoutedOrder...</td>\n",
       "      <td>17</td>\n",
       "    </tr>\n",
       "    <tr>\n",
       "      <th>20148</th>\n",
       "      <td>mr17-bugs</td>\n",
       "      <td>com.calypso.tk.decisionsupport.TestRoutedOrder...</td>\n",
       "      <td>17</td>\n",
       "    </tr>\n",
       "    <tr>\n",
       "      <th>20653</th>\n",
       "      <td>mr17-bugs</td>\n",
       "      <td>test.com.calypso.tk.report.TestSftrPrincipalRe...</td>\n",
       "      <td>17</td>\n",
       "    </tr>\n",
       "    <tr>\n",
       "      <th>20149</th>\n",
       "      <td>mr17-bugs</td>\n",
       "      <td>com.calypso.tk.marketdata.CurveGeneratorTestCa...</td>\n",
       "      <td>21</td>\n",
       "    </tr>\n",
       "  </tbody>\n",
       "</table>\n",
       "<p>20665 rows × 3 columns</p>\n",
       "</div>"
      ],
      "text/plain": [
       "                   Branch                                        FailedTests  \\\n",
       "1      CORE-BACKOFFICE_18  Compliance warnings.Invalid rule with analysis...   \n",
       "3      CORE-BACKOFFICE_18  Manipulate Rules With Temporary Adjustments.Ex...   \n",
       "4      CORE-BACKOFFICE_18  Pre Trade Orders Violation.Test check on order...   \n",
       "5      CORE-BACKOFFICE_18  Pre Trade Orders Violation.Test postdeal check...   \n",
       "6      CORE-BACKOFFICE_18  Pre Trade Trend Violation Status for Max Rules...   \n",
       "...                   ...                                                ...   \n",
       "20146           mr17-bugs  com.calypso.tk.decisionsupport.TestRoutedOrder...   \n",
       "20147           mr17-bugs  com.calypso.tk.decisionsupport.TestRoutedOrder...   \n",
       "20148           mr17-bugs  com.calypso.tk.decisionsupport.TestRoutedOrder...   \n",
       "20653           mr17-bugs  test.com.calypso.tk.report.TestSftrPrincipalRe...   \n",
       "20149           mr17-bugs  com.calypso.tk.marketdata.CurveGeneratorTestCa...   \n",
       "\n",
       "       Failures  \n",
       "1             1  \n",
       "3             1  \n",
       "4             1  \n",
       "5             1  \n",
       "6             1  \n",
       "...         ...  \n",
       "20146        17  \n",
       "20147        17  \n",
       "20148        17  \n",
       "20653        17  \n",
       "20149        21  \n",
       "\n",
       "[20665 rows x 3 columns]"
      ]
     },
     "execution_count": 15,
     "metadata": {},
     "output_type": "execute_result"
    }
   ],
   "source": [
    "test_failures_per_branch"
   ]
  },
  {
   "cell_type": "code",
   "execution_count": 16,
   "id": "1103c85b-980c-4c78-91f0-857c20ebf4ae",
   "metadata": {},
   "outputs": [],
   "source": [
    "top_failed_tests_per_branch = test_failures_per_branch.groupby('Branch').head(10)"
   ]
  },
  {
   "cell_type": "code",
   "execution_count": 17,
   "id": "d7560661-dc21-4f73-bede-0701d7627f4a",
   "metadata": {},
   "outputs": [
    {
     "data": {
      "text/html": [
       "<div>\n",
       "<style scoped>\n",
       "    .dataframe tbody tr th:only-of-type {\n",
       "        vertical-align: middle;\n",
       "    }\n",
       "\n",
       "    .dataframe tbody tr th {\n",
       "        vertical-align: top;\n",
       "    }\n",
       "\n",
       "    .dataframe thead th {\n",
       "        text-align: right;\n",
       "    }\n",
       "</style>\n",
       "<table border=\"1\" class=\"dataframe\">\n",
       "  <thead>\n",
       "    <tr style=\"text-align: right;\">\n",
       "      <th></th>\n",
       "      <th>Branch</th>\n",
       "      <th>FailedTests</th>\n",
       "      <th>Failures</th>\n",
       "    </tr>\n",
       "  </thead>\n",
       "  <tbody>\n",
       "    <tr>\n",
       "      <th>1</th>\n",
       "      <td>CORE-BACKOFFICE_18</td>\n",
       "      <td>Compliance warnings.Invalid rule with analysis...</td>\n",
       "      <td>1</td>\n",
       "    </tr>\n",
       "    <tr>\n",
       "      <th>3</th>\n",
       "      <td>CORE-BACKOFFICE_18</td>\n",
       "      <td>Manipulate Rules With Temporary Adjustments.Ex...</td>\n",
       "      <td>1</td>\n",
       "    </tr>\n",
       "    <tr>\n",
       "      <th>4</th>\n",
       "      <td>CORE-BACKOFFICE_18</td>\n",
       "      <td>Pre Trade Orders Violation.Test check on order...</td>\n",
       "      <td>1</td>\n",
       "    </tr>\n",
       "    <tr>\n",
       "      <th>5</th>\n",
       "      <td>CORE-BACKOFFICE_18</td>\n",
       "      <td>Pre Trade Orders Violation.Test postdeal check...</td>\n",
       "      <td>1</td>\n",
       "    </tr>\n",
       "    <tr>\n",
       "      <th>6</th>\n",
       "      <td>CORE-BACKOFFICE_18</td>\n",
       "      <td>Pre Trade Trend Violation Status for Max Rules...</td>\n",
       "      <td>1</td>\n",
       "    </tr>\n",
       "    <tr>\n",
       "      <th>...</th>\n",
       "      <td>...</td>\n",
       "      <td>...</td>\n",
       "      <td>...</td>\n",
       "    </tr>\n",
       "    <tr>\n",
       "      <th>19964</th>\n",
       "      <td>mr17-bugs</td>\n",
       "      <td>Scenario__Batch_for_StructuredFlows_with_rerat...</td>\n",
       "      <td>1</td>\n",
       "    </tr>\n",
       "    <tr>\n",
       "      <th>19965</th>\n",
       "      <td>mr17-bugs</td>\n",
       "      <td>Scenario__No_Alert_email_for_trade_WARNING_whi...</td>\n",
       "      <td>1</td>\n",
       "    </tr>\n",
       "    <tr>\n",
       "      <th>19966</th>\n",
       "      <td>mr17-bugs</td>\n",
       "      <td>Scenario__No_Alert_email_for_trade_WARNING_whi...</td>\n",
       "      <td>1</td>\n",
       "    </tr>\n",
       "    <tr>\n",
       "      <th>19967</th>\n",
       "      <td>mr17-bugs</td>\n",
       "      <td>Scenario__Pre_Trade_Trend_Violation_Status_wit...</td>\n",
       "      <td>1</td>\n",
       "    </tr>\n",
       "    <tr>\n",
       "      <th>19968</th>\n",
       "      <td>mr17-bugs</td>\n",
       "      <td>Scenario__Pre_Trade_Trend_Violation_Status_wit...</td>\n",
       "      <td>1</td>\n",
       "    </tr>\n",
       "  </tbody>\n",
       "</table>\n",
       "<p>70 rows × 3 columns</p>\n",
       "</div>"
      ],
      "text/plain": [
       "                   Branch                                        FailedTests  \\\n",
       "1      CORE-BACKOFFICE_18  Compliance warnings.Invalid rule with analysis...   \n",
       "3      CORE-BACKOFFICE_18  Manipulate Rules With Temporary Adjustments.Ex...   \n",
       "4      CORE-BACKOFFICE_18  Pre Trade Orders Violation.Test check on order...   \n",
       "5      CORE-BACKOFFICE_18  Pre Trade Orders Violation.Test postdeal check...   \n",
       "6      CORE-BACKOFFICE_18  Pre Trade Trend Violation Status for Max Rules...   \n",
       "...                   ...                                                ...   \n",
       "19964           mr17-bugs  Scenario__Batch_for_StructuredFlows_with_rerat...   \n",
       "19965           mr17-bugs  Scenario__No_Alert_email_for_trade_WARNING_whi...   \n",
       "19966           mr17-bugs  Scenario__No_Alert_email_for_trade_WARNING_whi...   \n",
       "19967           mr17-bugs  Scenario__Pre_Trade_Trend_Violation_Status_wit...   \n",
       "19968           mr17-bugs  Scenario__Pre_Trade_Trend_Violation_Status_wit...   \n",
       "\n",
       "       Failures  \n",
       "1             1  \n",
       "3             1  \n",
       "4             1  \n",
       "5             1  \n",
       "6             1  \n",
       "...         ...  \n",
       "19964         1  \n",
       "19965         1  \n",
       "19966         1  \n",
       "19967         1  \n",
       "19968         1  \n",
       "\n",
       "[70 rows x 3 columns]"
      ]
     },
     "execution_count": 17,
     "metadata": {},
     "output_type": "execute_result"
    }
   ],
   "source": [
    "top_failed_tests_per_branch"
   ]
  },
  {
   "cell_type": "code",
   "execution_count": 18,
   "id": "35340a5a-f4a5-4862-ad54-38a5b1e8f2c2",
   "metadata": {},
   "outputs": [],
   "source": [
    "test_failures_per_branch = test_failures_per_branch.sort_values(by=['Branch', 'Failures'], ascending=[True, False])"
   ]
  },
  {
   "cell_type": "code",
   "execution_count": 19,
   "id": "606a3750-d6e7-4708-a89c-d22625491292",
   "metadata": {},
   "outputs": [
    {
     "data": {
      "text/html": [
       "<div>\n",
       "<style scoped>\n",
       "    .dataframe tbody tr th:only-of-type {\n",
       "        vertical-align: middle;\n",
       "    }\n",
       "\n",
       "    .dataframe tbody tr th {\n",
       "        vertical-align: top;\n",
       "    }\n",
       "\n",
       "    .dataframe thead th {\n",
       "        text-align: right;\n",
       "    }\n",
       "</style>\n",
       "<table border=\"1\" class=\"dataframe\">\n",
       "  <thead>\n",
       "    <tr style=\"text-align: right;\">\n",
       "      <th></th>\n",
       "      <th>Branch</th>\n",
       "      <th>FailedTests</th>\n",
       "      <th>Failures</th>\n",
       "    </tr>\n",
       "  </thead>\n",
       "  <tbody>\n",
       "    <tr>\n",
       "      <th>50</th>\n",
       "      <td>CORE-BACKOFFICE_18</td>\n",
       "      <td>test.com.calypso.apps.taskstation.center.TestT...</td>\n",
       "      <td>9</td>\n",
       "    </tr>\n",
       "    <tr>\n",
       "      <th>170</th>\n",
       "      <td>CORE-BACKOFFICE_18</td>\n",
       "      <td>test.com.calypso.tk.report.TestSftrPrincipalRe...</td>\n",
       "      <td>7</td>\n",
       "    </tr>\n",
       "    <tr>\n",
       "      <th>45</th>\n",
       "      <td>CORE-BACKOFFICE_18</td>\n",
       "      <td>com.calypso.scheduling.test.CheckValuationDate...</td>\n",
       "      <td>5</td>\n",
       "    </tr>\n",
       "    <tr>\n",
       "      <th>116</th>\n",
       "      <td>CORE-BACKOFFICE_18</td>\n",
       "      <td>test.com.calypso.connectivity.plaftorm.remotin...</td>\n",
       "      <td>5</td>\n",
       "    </tr>\n",
       "    <tr>\n",
       "      <th>139</th>\n",
       "      <td>CORE-BACKOFFICE_18</td>\n",
       "      <td>test.com.calypso.tk.core.TestHedgeRelationship...</td>\n",
       "      <td>5</td>\n",
       "    </tr>\n",
       "    <tr>\n",
       "      <th>...</th>\n",
       "      <td>...</td>\n",
       "      <td>...</td>\n",
       "      <td>...</td>\n",
       "    </tr>\n",
       "    <tr>\n",
       "      <th>20622</th>\n",
       "      <td>mr17-bugs</td>\n",
       "      <td>test.com.calypso.tk.bo.accounting.TestPostings...</td>\n",
       "      <td>1</td>\n",
       "    </tr>\n",
       "    <tr>\n",
       "      <th>20623</th>\n",
       "      <td>mr17-bugs</td>\n",
       "      <td>test.com.calypso.tk.bo.accounting.TestPostings...</td>\n",
       "      <td>1</td>\n",
       "    </tr>\n",
       "    <tr>\n",
       "      <th>20624</th>\n",
       "      <td>mr17-bugs</td>\n",
       "      <td>test.com.calypso.tk.bo.accounting.TestPostings...</td>\n",
       "      <td>1</td>\n",
       "    </tr>\n",
       "    <tr>\n",
       "      <th>20651</th>\n",
       "      <td>mr17-bugs</td>\n",
       "      <td>test.com.calypso.tk.refdata.sdfilter.TestSecur...</td>\n",
       "      <td>1</td>\n",
       "    </tr>\n",
       "    <tr>\n",
       "      <th>20664</th>\n",
       "      <td>mr17-bugs</td>\n",
       "      <td>test.com.calypso.tk.util.TestScheduledTaskRECO...</td>\n",
       "      <td>1</td>\n",
       "    </tr>\n",
       "  </tbody>\n",
       "</table>\n",
       "<p>20665 rows × 3 columns</p>\n",
       "</div>"
      ],
      "text/plain": [
       "                   Branch                                        FailedTests  \\\n",
       "50     CORE-BACKOFFICE_18  test.com.calypso.apps.taskstation.center.TestT...   \n",
       "170    CORE-BACKOFFICE_18  test.com.calypso.tk.report.TestSftrPrincipalRe...   \n",
       "45     CORE-BACKOFFICE_18  com.calypso.scheduling.test.CheckValuationDate...   \n",
       "116    CORE-BACKOFFICE_18  test.com.calypso.connectivity.plaftorm.remotin...   \n",
       "139    CORE-BACKOFFICE_18  test.com.calypso.tk.core.TestHedgeRelationship...   \n",
       "...                   ...                                                ...   \n",
       "20622           mr17-bugs  test.com.calypso.tk.bo.accounting.TestPostings...   \n",
       "20623           mr17-bugs  test.com.calypso.tk.bo.accounting.TestPostings...   \n",
       "20624           mr17-bugs  test.com.calypso.tk.bo.accounting.TestPostings...   \n",
       "20651           mr17-bugs  test.com.calypso.tk.refdata.sdfilter.TestSecur...   \n",
       "20664           mr17-bugs  test.com.calypso.tk.util.TestScheduledTaskRECO...   \n",
       "\n",
       "       Failures  \n",
       "50            9  \n",
       "170           7  \n",
       "45            5  \n",
       "116           5  \n",
       "139           5  \n",
       "...         ...  \n",
       "20622         1  \n",
       "20623         1  \n",
       "20624         1  \n",
       "20651         1  \n",
       "20664         1  \n",
       "\n",
       "[20665 rows x 3 columns]"
      ]
     },
     "execution_count": 19,
     "metadata": {},
     "output_type": "execute_result"
    }
   ],
   "source": [
    "test_failures_per_branch"
   ]
  },
  {
   "cell_type": "code",
   "execution_count": 21,
   "id": "354820bf-a7b6-4d23-b61d-0ced8107a82b",
   "metadata": {},
   "outputs": [
    {
     "data": {
      "text/plain": [
       "50       CORE-BACKOFFICE_18\n",
       "170      CORE-BACKOFFICE_18\n",
       "45       CORE-BACKOFFICE_18\n",
       "116      CORE-BACKOFFICE_18\n",
       "139      CORE-BACKOFFICE_18\n",
       "                ...        \n",
       "20622             mr17-bugs\n",
       "20623             mr17-bugs\n",
       "20624             mr17-bugs\n",
       "20651             mr17-bugs\n",
       "20664             mr17-bugs\n",
       "Name: Branch, Length: 20665, dtype: object"
      ]
     },
     "execution_count": 21,
     "metadata": {},
     "output_type": "execute_result"
    }
   ],
   "source": [
    "test_failures_per_branch['Branch']"
   ]
  },
  {
   "cell_type": "code",
   "execution_count": 24,
   "id": "9dfe3ed9-f47c-4c92-bf1a-78a2963e6192",
   "metadata": {},
   "outputs": [],
   "source": [
    "top_failed_tests_for_branch = test_failures_per_branch[test_failures_per_branch['Branch'] == 'mr17-bugs'].head(10)"
   ]
  },
  {
   "cell_type": "code",
   "execution_count": 33,
   "id": "eb7d5ad2-ee09-41de-bb85-5698ad85dbd3",
   "metadata": {},
   "outputs": [],
   "source": [
    "testcase = top_failed_tests_for_branch.iloc[0]"
   ]
  },
  {
   "cell_type": "code",
   "execution_count": 34,
   "id": "7bd0cbd5-5ce0-4a06-ab6b-9c1be9113a20",
   "metadata": {},
   "outputs": [
    {
     "data": {
      "text/plain": [
       "Branch                                                 mr17-bugs\n",
       "FailedTests    com.calypso.tk.marketdata.CurveGeneratorTestCa...\n",
       "Failures                                                      21\n",
       "Name: 20149, dtype: object"
      ]
     },
     "execution_count": 34,
     "metadata": {},
     "output_type": "execute_result"
    }
   ],
   "source": [
    "testcase"
   ]
  },
  {
   "cell_type": "code",
   "execution_count": 35,
   "id": "a8ff32fb-2a15-440e-beed-779719ad808d",
   "metadata": {},
   "outputs": [
    {
     "data": {
      "text/plain": [
       "'com.calypso.tk.marketdata.CurveGeneratorTestCalibXL.testGenerateCalibXL'"
      ]
     },
     "execution_count": 35,
     "metadata": {},
     "output_type": "execute_result"
    }
   ],
   "source": [
    "testcase.FailedTests"
   ]
  },
  {
   "cell_type": "code",
   "execution_count": 2,
   "id": "70a6df0a-9649-4a92-a371-4b20caf41fa0",
   "metadata": {},
   "outputs": [],
   "source": [
    "import pandas as pd\n",
    "# below code working fine and generating data in other sheets\n",
    "df = pd.read_excel('tests-analysis-report.xlsx',sheet_name=2)"
   ]
  },
  {
   "cell_type": "code",
   "execution_count": 3,
   "id": "360124fc-2f8e-4c03-a87b-ad7d39a015c4",
   "metadata": {},
   "outputs": [],
   "source": [
    "target_week = 12"
   ]
  },
  {
   "cell_type": "code",
   "execution_count": 4,
   "id": "f8bc367b-af1a-4c74-a134-d475c636e630",
   "metadata": {},
   "outputs": [],
   "source": [
    "df_week = df[df['week'] == target_week]\n",
    "test_failures_per_branch = df_week.groupby(['Branch', 'FailedTests']).size()\n",
    "test_failures_per_branch = test_failures_per_branch.reset_index(name='Failures')\n",
    "test_failures_per_branch = test_failures_per_branch.sort_values(by=['Branch', 'Failures'], ascending=[True, False])"
   ]
  },
  {
   "cell_type": "code",
   "execution_count": 6,
   "id": "2c8fb98b-32c1-4e56-a251-c296d59d6e5c",
   "metadata": {},
   "outputs": [],
   "source": [
    "existing_data = pd.read_excel(\"top failed tests.xlsx\")\n",
    "branches = ['FEATURE-HSQLDB-UPGRADE', 'mr17-bugs', 'CORE-FRONTOFFICE_18', 'FEATURE-V17-RUNTIME-JAVA17', 'CORE-BACKOFFICE_18']"
   ]
  },
  {
   "cell_type": "code",
   "execution_count": 7,
   "id": "15b8f65d-0582-4435-ab6e-8df217538745",
   "metadata": {},
   "outputs": [],
   "source": [
    "def branch_wise(branch,existing_data,test_failures_per_branch):\n",
    "    top_failed_tests_for_branch = test_failures_per_branch[test_failures_per_branch['Branch'] == branch].head(10)\n",
    "    appended_data = pd.concat([existing_data, test_failures_per_branch], ignore_index=True)\n",
    "    appended_data.to_excel(\"top failed tests.xlsx\", index=False)"
   ]
  },
  {
   "cell_type": "code",
   "execution_count": 8,
   "id": "3d2c5110-f0dd-48d5-ba06-7bb9ea1227a3",
   "metadata": {},
   "outputs": [],
   "source": [
    "branch_wise('FEATURE-HSQLDB-UPGRADE',existing_data,test_failures_per_branch)"
   ]
  },
  {
   "cell_type": "code",
   "execution_count": null,
   "id": "2d939e6c-368b-49fb-8d14-10b41f0c6246",
   "metadata": {},
   "outputs": [],
   "source": []
  }
 ],
 "metadata": {
  "kernelspec": {
   "display_name": "Python 3 (ipykernel)",
   "language": "python",
   "name": "python3"
  },
  "language_info": {
   "codemirror_mode": {
    "name": "ipython",
    "version": 3
   },
   "file_extension": ".py",
   "mimetype": "text/x-python",
   "name": "python",
   "nbconvert_exporter": "python",
   "pygments_lexer": "ipython3",
   "version": "3.11.5"
  }
 },
 "nbformat": 4,
 "nbformat_minor": 5
}
